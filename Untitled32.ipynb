{
  "nbformat": 4,
  "nbformat_minor": 0,
  "metadata": {
    "colab": {
      "provenance": [],
      "authorship_tag": "ABX9TyO8ZdKWAujioAvckoeMa6N9",
      "include_colab_link": true
    },
    "kernelspec": {
      "name": "python3",
      "display_name": "Python 3"
    },
    "language_info": {
      "name": "python"
    }
  },
  "cells": [
    {
      "cell_type": "markdown",
      "metadata": {
        "id": "view-in-github",
        "colab_type": "text"
      },
      "source": [
        "<a href=\"https://colab.research.google.com/github/min02yam/ADP/blob/main/Untitled32.ipynb\" target=\"_parent\"><img src=\"https://colab.research.google.com/assets/colab-badge.svg\" alt=\"Open In Colab\"/></a>"
      ]
    },
    {
      "cell_type": "markdown",
      "source": [
        "구글 드라이브 -> 새로만들기 -> 더보기 -> google colab 다운 @@@@@@@@@@@@@"
      ],
      "metadata": {
        "id": "LqLBxB4_-seO"
      }
    },
    {
      "cell_type": "code",
      "execution_count": null,
      "metadata": {
        "id": "DJDNWaOq-rwr"
      },
      "outputs": [],
      "source": [
        "# sig -> relu 변경 \n",
        "model = Sequential()\n",
        "model.add(Input(shape=(30,)))\n",
        "model.add(Dense(100, activation='relu'))\n",
        "model.add(Dense(100, activation='relu'))\n",
        "model.add(Dense(1, activation='sigmoid')) # 0-1 출력\n",
        "model.summary()\n",
        "model.compile(loss='binary_crossentropy',\n",
        "              optimizer='adom',\n",
        "              metrics=['accuracy'])\n",
        "hist = model.fit(x_train_std, y_train, validation_data=(x_test_std, y_test),\n",
        "                 epochs=500)\n",
        "\n",
        "\n",
        "import matplotlib.pyplot as plt\n",
        "plt.plot(range(500), hist.history['loss'], label='train_data')\n",
        "plt.plot(range(500), hist.history['val_loss'], label='test_data')\n",
        "plt.legend(loc='best')\n",
        "plt.grid()\n",
        "plt.xlabel('epoch')\n",
        "plt.ylabel('loss')\n",
        "plt.show()\n",
        "\n",
        "# loss func, 학습 속도 비교 @@ "
      ]
    },
    {
      "cell_type": "markdown",
      "source": [
        "# 레이어 디자인 "
      ],
      "metadata": {
        "id": "N2zPoLFODjRg"
      }
    }
  ]
}