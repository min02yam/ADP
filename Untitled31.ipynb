{
  "nbformat": 4,
  "nbformat_minor": 0,
  "metadata": {
    "colab": {
      "provenance": [],
      "authorship_tag": "ABX9TyMOG+TZZemVWYIBSZlFjGGv",
      "include_colab_link": true
    },
    "kernelspec": {
      "name": "python3",
      "display_name": "Python 3"
    },
    "language_info": {
      "name": "python"
    }
  },
  "cells": [
    {
      "cell_type": "markdown",
      "metadata": {
        "id": "view-in-github",
        "colab_type": "text"
      },
      "source": [
        "<a href=\"https://colab.research.google.com/github/min02yam/ADP/blob/main/Untitled31.ipynb\" target=\"_parent\"><img src=\"https://colab.research.google.com/assets/colab-badge.svg\" alt=\"Open In Colab\"/></a>"
      ]
    },
    {
      "cell_type": "code",
      "execution_count": null,
      "metadata": {
        "id": "40RA_Tw93UhQ"
      },
      "outputs": [],
      "source": [
        "grid_param = [\n",
        "    {'preprocess':[StandardScaler(), MinMaxScaler()],\n",
        "     'classifier': [KNeighborsClassifier()],\n",
        "     'classifier__n_neighbors':list(range(1,25,2))},\n",
        "\n",
        "    {'preprocess':[StandardScaler(), MinMaxScaler()],\n",
        "     'classifier': [SVC()],\n",
        "     'classifier__gamma':[1,10,100],\n",
        "     'classifier__kernel':['poly','rbf']},\n",
        "\n",
        "    {'preprocess':[None],\n",
        "     'classifier': [GaussianNB()]},\n",
        "\n",
        "    {'preprocess':[None],\n",
        "     'classifier': [DecisionTreeClassifier()],\n",
        "     'classifier__criterion':['gini', 'entropy'],\n",
        "     'classifier__max_depth':list(range(2,15))},\n",
        "\n",
        "    {'preprocess':[None],\n",
        "     'classifier': [RandomForestClassifier()],\n",
        "     'classifier__n_estimators':[50,100,150]},\n",
        "\n",
        "    {'preprocess':[None],\n",
        "     'classifier': [AdaBoostClassifier()],\n",
        "     'classifier__n_estimators':[50,100,150]},\n",
        "\n",
        "    {'preprocess':[StandardScaler(), MinMaxScaler()],\n",
        "     'classifier': [MLPClassifier()],\n",
        "     'classifier__hidden_layer_sizes':[(100,), (100,100), (100,100,100)],\n",
        "     'classifier__max_iter':[1000]}\n",
        "]\n"
      ]
    }
  ]
}