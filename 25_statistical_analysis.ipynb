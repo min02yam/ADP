{
  "cells": [
    {
      "cell_type": "markdown",
      "metadata": {
        "id": "view-in-github",
        "colab_type": "text"
      },
      "source": [
        "<a href=\"https://colab.research.google.com/github/min02yam/ADP/blob/main/25_statistical_analysis.ipynb\" target=\"_parent\"><img src=\"https://colab.research.google.com/assets/colab-badge.svg\" alt=\"Open In Colab\"/></a>"
      ]
    },
    {
      "cell_type": "markdown",
      "metadata": {
        "id": "3jhHomlwhuzG"
      },
      "source": [
        "통계분석 "
      ]
    },
    {
      "cell_type": "markdown",
      "source": [
        "# 1.평균속도 - 조화평균\n",
        "서울에서 영동까지 100km/h로 이동하였으며, 그 후 영동에서 서울까지 80km/h의 속도로 되돌아왔을 때, 평균속도를 계산하시오."
      ],
      "metadata": {
        "id": "miFNPxC9_BMa"
      }
    },
    {
      "cell_type": "code",
      "source": [
        "a = 100\n",
        "b = 80\n",
        "cat(\"정답은\",round((2*a*b)/(a+b),2))"
      ],
      "metadata": {
        "colab": {
          "base_uri": "https://localhost:8080/"
        },
        "id": "O89wjdzGEKIc",
        "outputId": "7a5536d3-6282-44a7-af8d-67a5b8c6706b"
      },
      "execution_count": null,
      "outputs": [
        {
          "output_type": "stream",
          "name": "stdout",
          "text": [
            "정답은 88.89"
          ]
        }
      ]
    },
    {
      "cell_type": "markdown",
      "source": [
        "# 2.연평균 생산량 증가율 - 기하평균\n",
        "어느 공장의 작년 생산량이 1000개, 올해 생산량이 2000개, 내년 생산량이 3000개로 늘어날 예정이다. 연평균 생산량 증가율을 계산하시오."
      ],
      "metadata": {
        "id": "xBP9ZQwg_XSn"
      }
    },
    {
      "cell_type": "code",
      "source": [
        "n=2\n",
        "a= 1000\n",
        "b= 3000\n",
        "ans = sqrt(b/a)-1  \n",
        "cat(\"연평균 증가율은\", round(ans*100,2) ,\"%\",\"입니다.\" )"
      ],
      "metadata": {
        "colab": {
          "base_uri": "https://localhost:8080/"
        },
        "id": "wHQw-uQvEfAf",
        "outputId": "b7c5fab9-6fbf-4e71-922b-bb8303bc7695"
      },
      "execution_count": null,
      "outputs": [
        {
          "output_type": "stream",
          "name": "stdout",
          "text": [
            "연평균 증가율은 73.21 % 입니다."
          ]
        }
      ]
    },
    {
      "cell_type": "markdown",
      "source": [
        "# 3.조건부 확률\n",
        "등산을 좋아하는 사람 200명 중 남자 130명, 여자 70명이 있다. 등산을 좋아하지않는사람 100명 중 남자 30명, 여자 70명이 있다. 남자일때 등산을 좋아할 확률을 구하시오.\n"
      ],
      "metadata": {
        "id": "sFsuhnzPBdQt"
      }
    },
    {
      "cell_type": "code",
      "source": [
        "cat(\"확률은\" , round( 130/(130+30), 2),\"입니다.\" )"
      ],
      "metadata": {
        "colab": {
          "base_uri": "https://localhost:8080/"
        },
        "id": "AbpjZIiz_A7D",
        "outputId": "ed12950a-07db-45ab-ed3f-fc343805e95d"
      },
      "execution_count": null,
      "outputs": [
        {
          "output_type": "stream",
          "name": "stdout",
          "text": [
            "확률은 0.81 입니다."
          ]
        }
      ]
    },
    {
      "cell_type": "markdown",
      "source": [
        "# 4.표본 분산의 신뢰구간\n",
        "표본 개수 20개의 표본분산이 90^2일때, 신뢰도 95%에서 표본분산의 신뢰구간을 구하시오."
      ],
      "metadata": {
        "id": "WQbFIS5ZZsot"
      }
    },
    {
      "cell_type": "code",
      "source": [
        "df=19\n",
        "s=90\n",
        "L = df * s / qchisq(0.975,df)\n",
        "U = df* s / qchisq(0.025,df)"
      ],
      "metadata": {
        "id": "UmDrVjyqlFzf"
      },
      "execution_count": null,
      "outputs": []
    },
    {
      "cell_type": "code",
      "source": [
        "cat(\"95% 신뢰구간은\", \"[\",round(L,2),\",\",round(U,2),\"]\" ,\"입니다.\")"
      ],
      "metadata": {
        "colab": {
          "base_uri": "https://localhost:8080/"
        },
        "id": "ntpNjjBul2VL",
        "outputId": "3cb617cc-0dba-4fd8-fe8d-f351ecde7888"
      },
      "execution_count": null,
      "outputs": [
        {
          "output_type": "stream",
          "name": "stdout",
          "text": [
            "95% 신뢰구간은 [ 52.05 , 191.99 ] 입니다."
          ]
        }
      ]
    },
    {
      "cell_type": "markdown",
      "source": [
        "# 5.짝표본 모평균 차 검정\n",
        "혈압약의 효과를 검증하려고 한다. 임상 대상 20명에 대하여 혈압약을 먹었을때 혈압차이가 24mmHg, 표준편차가 9.5mmHg로 집계되었다."
      ],
      "metadata": {
        "id": "ZZUBJaxfZwOw"
      }
    },
    {
      "cell_type": "code",
      "source": [
        "n=20\n",
        "d=24\n",
        "sigma=9.5\n",
        "t=d/(sigma/sqrt(n))"
      ],
      "metadata": {
        "id": "vUy-ET5v-3pU"
      },
      "execution_count": null,
      "outputs": []
    },
    {
      "cell_type": "code",
      "source": [
        "paste(\"t검정통계량의 값은\",round(t,4) )\n",
        "paste(\"유의확률은\", 1-pt(t, n-1) )"
      ],
      "metadata": {
        "colab": {
          "base_uri": "https://localhost:8080/",
          "height": 52
        },
        "id": "vO23owBOa882",
        "outputId": "9917f904-0eb8-4dcf-9bd7-d35fee7d3c28"
      },
      "execution_count": null,
      "outputs": [
        {
          "output_type": "display_data",
          "data": {
            "text/html": [
              "'t검정통계량의 값은 11.298'"
            ],
            "text/markdown": "'t검정통계량의 값은 11.298'",
            "text/latex": "'t검정통계량의 값은 11.298'",
            "text/plain": [
              "[1] \"t검정통계량의 값은 11.298\""
            ]
          },
          "metadata": {}
        },
        {
          "output_type": "display_data",
          "data": {
            "text/html": [
              "'유의확률은 3.56065954498774e-10'"
            ],
            "text/markdown": "'유의확률은 3.56065954498774e-10'",
            "text/latex": "'유의확률은 3.56065954498774e-10'",
            "text/plain": [
              "[1] \"유의확률은 3.56065954498774e-10\""
            ]
          },
          "metadata": {}
        }
      ]
    },
    {
      "cell_type": "markdown",
      "source": [
        "- `H_0`: 치료 전후의 혈압의 평균값은 차이가 없다.\n",
        "- `H_a`: 치료 후 혈압의 평균값이 더 낮다.\n",
        "- `t검정통계량값`: 11.298\n",
        "- `결론`: t검정통계량의 값이 11.298일때 유의확률은 0과 가까울 정도로 매우 작은 수치로 유의수준 0.05보다 작다.<br> 그러므로 유의수준 0.05하에서는 통계적으로 귀무가설을 기각할 근거가 충분하다. <br>즉, 귀무가설을 기각한다. \n",
        "- `해석`: 유의수준 0.05하에서는 혈압약의 효과가 있다고 할 수 있다. "
      ],
      "metadata": {
        "id": "QGgAYlqParN_"
      }
    },
    {
      "cell_type": "markdown",
      "source": [
        "# 6.크루스칼왈리스-중심위치"
      ],
      "metadata": {
        "id": "J0SsJB2IaKDE"
      }
    },
    {
      "cell_type": "code",
      "source": [
        "A = c(4,4,2,3,4)\n",
        "B = c(6,4,4,5,6)\n",
        "C = c(6,6,7,6,5)\n",
        "x = c(A, B, C)\n",
        "g = factor(rep(1:3, c(5, 5, 5)),\n",
        "            labels = c(\"공장A\",\n",
        "                       \"공장B\",\n",
        "                       \"공장C\"))\n",
        "kruskal.test(x, g)"
      ],
      "metadata": {
        "colab": {
          "base_uri": "https://localhost:8080/",
          "height": 110
        },
        "id": "quErZFtFdq_O",
        "outputId": "7da79b03-14a7-4b46-e44d-df977f10a9eb"
      },
      "execution_count": null,
      "outputs": [
        {
          "output_type": "display_data",
          "data": {
            "text/plain": [
              "\n",
              "\tKruskal-Wallis rank sum test\n",
              "\n",
              "data:  x and g\n",
              "Kruskal-Wallis chi-squared = 9.3927, df = 2, p-value = 0.009129\n"
            ]
          },
          "metadata": {}
        }
      ]
    },
    {
      "cell_type": "markdown",
      "source": [
        "- `귀무가설(H_0)`: 세 공장 A, B, C 의 생산품 무게의 중앙값은 같다.\n",
        "- `연구가설(H_a)`: 세 공장 A, B, C의 생산품 무게의 중앙값은 같지 않다.\n",
        "- `카이스퀘어 검정통계량의 값` : 9.3927\n",
        "- `결론`: 카이스퀘어 검정통계량의 값이 9.3927일때 유의확률은 0.0091로써 유의수준 0.05보다 작다. 그러므로 유의수준 0.05하에서는 통계적으로 귀무가설을 기각할 근거가 충분하다.\n",
        "- `해석`: 즉, 유의수준 0.05하에서는 세 공장 A,B,C,간 생산량의 차이가 있다고 할 수 있다. "
      ],
      "metadata": {
        "id": "KNvnYUwaeZ6z"
      }
    },
    {
      "cell_type": "markdown",
      "source": [
        "# 7.최적투자안 ,,, "
      ],
      "metadata": {
        "id": "KcCjVDMEmXnq"
      }
    },
    {
      "cell_type": "code",
      "source": [
        "<공부중>"
      ],
      "metadata": {
        "id": "PpWioQP3mXWO"
      },
      "execution_count": null,
      "outputs": []
    }
  ],
  "metadata": {
    "accelerator": "GPU",
    "colab": {
      "name": "25회-통계분석",
      "provenance": [],
      "include_colab_link": true
    },
    "gpuClass": "standard",
    "kernelspec": {
      "display_name": "R",
      "name": "ir"
    },
    "language_info": {
      "name": "R"
    }
  },
  "nbformat": 4,
  "nbformat_minor": 0
}